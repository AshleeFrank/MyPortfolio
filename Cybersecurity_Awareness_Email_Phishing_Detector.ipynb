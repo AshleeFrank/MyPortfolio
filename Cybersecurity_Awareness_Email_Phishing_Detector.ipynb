{
  "nbformat": 4,
  "nbformat_minor": 0,
  "metadata": {
    "colab": {
      "provenance": []
    },
    "kernelspec": {
      "name": "python3",
      "display_name": "Python 3"
    },
    "language_info": {
      "name": "python"
    }
  },
  "cells": [
    {
      "cell_type": "markdown",
      "metadata": {
        "id": "abc00c4b"
      },
      "source": [
        "# Email Phishing Detector\n",
        "**Description:** A Python project that helps detect potential phishing emails by scanning for suspicious keywords and links.\n",
        "**Tech:** Python\n",
        "\n",
        "This notebook demonstrates basic cybersecurity awareness skills. Users can paste email content to check if it contains signs of phishing attempts."
      ]
    },
    {
      "cell_type": "markdown",
      "metadata": {
        "id": "d0190329"
      },
      "source": [
        "## How It Works\n",
        "- The program looks for keywords commonly found in phishing emails, like \"urgent\", \"password\", \"click here\", etc.\n",
        "- If multiple suspicious keywords are found, it flags the email as a potential phishing attempt.\n",
        "- Users can test multiple emails by running the code cell below."
      ]
    },
    {
      "cell_type": "code",
      "source": [
        "email = input(\"Paste an email to test:\\n\")\n",
        "\n",
        "score = sum(word.lower() in email.lower() for word in phishing_keywords)\n",
        "\n",
        "print(f\"\\nEmail content:\\n{email}\")\n",
        "if score > 2:\n",
        "    print(\"⚠️ This email may be a phishing attempt!\")\n",
        "elif score > 0:\n",
        "    print(\"⚠️ This email has some suspicious elements. Be careful.\")\n",
        "else:\n",
        "    print(\"✅ This email looks safe.\")\n"
      ],
      "metadata": {
        "colab": {
          "base_uri": "https://localhost:8080/"
        },
        "id": "YNBlp8FLHYr5",
        "outputId": "7cd519b2-b630-4cba-f2ba-d3dcba4bfd63"
      },
      "execution_count": 14,
      "outputs": [
        {
          "output_type": "stream",
          "name": "stdout",
          "text": [
            "Paste an email to test:\n",
            "click here\n",
            "\n",
            "Email content:\n",
            "click here\n",
            "⚠️ This email has some suspicious elements. Be careful.\n"
          ]
        }
      ]
    },
    {
      "cell_type": "markdown",
      "metadata": {
        "id": "91ddeb59"
      },
      "source": [
        "## Summary\n",
        "- This project demonstrates how simple keyword analysis can help detect phishing emails.\n",
        "- Skills highlighted:\n",
        "  - String handling in Python\n",
        "  - Conditional statements\n",
        "  - Basic cybersecurity awareness\n",
        "- This type of tool can be expanded to analyze multiple emails, check links, or integrate machine learning models for more advanced phishing detection."
      ]
    }
  ]
}