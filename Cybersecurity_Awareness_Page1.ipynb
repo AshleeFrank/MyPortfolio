{
  "nbformat": 4,
  "nbformat_minor": 0,
  "metadata": {
    "colab": {
      "provenance": []
    },
    "kernelspec": {
      "name": "python3",
      "display_name": "Python 3"
    },
    "language_info": {
      "name": "python"
    }
  },
  "cells": [
    {
      "cell_type": "code",
      "source": [
        "# Cybersecurity Awareness Page\n",
        "**Description:** A Python project that teaches users how to spot phishing emails and scams.\n",
        "**Tech:** Python\n",
        "\n",
        "Welcome to the Cybersecurity Awareness Program!\n",
        "This notebook will help you recognize phishing emails and online scams. Follow the instructions and answer the quiz questions to test your knowledge.\n"
      ],
      "metadata": {
        "colab": {
          "base_uri": "https://localhost:8080/",
          "height": 106
        },
        "id": "nxZ37vfUCIsG",
        "outputId": "4e8937ca-f9d5-4a5d-c94c-9847b2126c00"
      },
      "execution_count": 5,
      "outputs": [
        {
          "output_type": "error",
          "ename": "SyntaxError",
          "evalue": "invalid syntax (ipython-input-1700308782.py, line 2)",
          "traceback": [
            "\u001b[0;36m  File \u001b[0;32m\"/tmp/ipython-input-1700308782.py\"\u001b[0;36m, line \u001b[0;32m2\u001b[0m\n\u001b[0;31m    **Description:** A Python project that teaches users how to spot phishing emails and scams.\u001b[0m\n\u001b[0m    ^\u001b[0m\n\u001b[0;31mSyntaxError\u001b[0m\u001b[0;31m:\u001b[0m invalid syntax\n"
          ]
        }
      ]
    },
    {
      "cell_type": "code",
      "source": [
        "## Tips for Spotting Phishing Emails\n",
        "- Check the sender's email address carefully\n",
        "- Look for spelling or grammar mistakes\n",
        "- Never click suspicious links\n",
        "- Verify requests for personal information\n",
        "- Be cautious with urgent or threatening messages\n"
      ],
      "metadata": {
        "id": "CDNK1ZSMCMDX"
      },
      "execution_count": null,
      "outputs": []
    },
    {
      "cell_type": "code",
      "source": [
        "# Interactive Quiz\n",
        "questions = [\n",
        "    {\n",
        "        \"question\": \"You receive an email that says 'You won a prize! Click here to claim.' Is this safe? (yes/no): \",\n",
        "        \"answer\": \"no\"\n",
        "    },\n",
        "    {\n",
        "        \"question\": \"An email from your bank asks for your password to verify your account. Is this safe? (yes/no): \",\n",
        "        \"answer\": \"no\"\n",
        "    },\n",
        "    {\n",
        "        \"question\": \"An email from your coworker asks for a document related to work. Is this safe? (yes/no): \",\n",
        "        \"answer\": \"yes\"\n",
        "    }\n",
        "]\n",
        "\n",
        "score = 0\n",
        "for q in questions:\n",
        "    user_answer = input(q[\"question\"]).strip().lower()\n",
        "    if user_answer == q[\"answer\"]:\n",
        "        print(\"Correct!\\n\")\n",
        "        score += 1\n",
        "    else:\n",
        "        print(f\"Incorrect. The correct answer is '{q['answer']}'.\\n\")\n",
        "\n",
        "print(f\"Quiz Complete! Your score: {score}/{len(questions)}\")\n",
        "print(\"Remember: Always be cautious with emails and links you are unsure about.\")\n"
      ],
      "metadata": {
        "id": "zJNR3cyRCRAn"
      },
      "execution_count": null,
      "outputs": []
    }
  ]
}
