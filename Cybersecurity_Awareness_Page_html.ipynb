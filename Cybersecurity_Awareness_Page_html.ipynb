{
  "nbformat": 4,
  "nbformat_minor": 0,
  "metadata": {
    "colab": {
      "provenance": []
    },
    "kernelspec": {
      "name": "python3",
      "display_name": "Python 3"
    },
    "language_info": {
      "name": "python"
    }
  },
  "cells": [
    {
      "cell_type": "code",
      "execution_count": 3,
      "metadata": {
        "colab": {
          "base_uri": "https://localhost:8080/"
        },
        "id": "TgfpptcH8-C8",
        "outputId": "ad1ed953-8a04-4237-820e-ee863f5fbe72"
      },
      "outputs": [
        {
          "output_type": "stream",
          "name": "stdout",
          "text": [
            "HTML content saved to cybersecurity_awareness.html\n"
          ]
        }
      ],
      "source": [
        "html_content = \"\"\"\n",
        "<!DOCTYPE html>\n",
        "<html lang=\"en\">\n",
        "<head>\n",
        "<meta charset=\"UTF-8\">\n",
        "<meta name=\"viewport\" content=\"width=device-width, initial-scale=1.0\">\n",
        "<title>Cybersecurity Awareness</title>\n",
        "<style>\n",
        "body { font-family: Arial, sans-serif; margin: 0; padding: 0; background-color: #f2f2f2; }\n",
        "header { background-color: #007bff; color: white; padding: 20px; text-align: center; }\n",
        "main { padding: 20px; }\n",
        "button { margin: 5px; padding: 10px 15px; cursor: pointer; }\n",
        "</style>\n",
        "</head>\n",
        "<body>\n",
        "<header>\n",
        "<h1>Cybersecurity Awareness</h1>\n",
        "<p>Learn to spot phishing emails and online scams</p>\n",
        "</header>\n",
        "<main>\n",
        "<section id=\"phishing-tips\">\n",
        "<h2>How to Spot a Phishing Email</h2>\n",
        "<ul>\n",
        "<li>Check the sender's email address carefully</li>\n",
        "<li>Look for spelling or grammar mistakes</li>\n",
        "<li>Never click suspicious links</li>\n",
        "<li>Verify requests for personal information</li>\n",
        "</ul>\n",
        "</section>\n",
        "<section id=\"quiz\">\n",
        "<h2>Test Your Knowledge</h2>\n",
        "<p>Is this email safe? <span id=\"question\">\"You won a prize! Click here to claim.\"</span></p>\n",
        "<button onclick=\"checkAnswer(true)\">Safe</button>\n",
        "<button onclick=\"checkAnswer(false)\">Phishing</button>\n",
        "<p id=\"feedback\"></p>\n",
        "</section>\n",
        "<script>\n",
        "function checkAnswer(isSafe) {\n",
        "    const feedback = document.getElementById(\"feedback\");\n",
        "    if (isSafe === false) {\n",
        "        feedback.textContent = \"Correct! This is a phishing email.\";\n",
        "        feedback.style.color = \"green\";\n",
        "    } else {\n",
        "        feedback.textContent = \"Incorrect. This email is likely a phishing attempt.\";\n",
        "        feedback.style.color = \"red\";\n",
        "    }\n",
        "}\n",
        "</script>\n",
        "</main>\n",
        "</body>\n",
        "</html>\n",
        "\"\"\"\n",
        "\n",
        "with open(\"cybersecurity_awareness.html\", \"w\") as f:\n",
        "    f.write(html_content)\n",
        "\n",
        "print(\"HTML content saved to cybersecurity_awareness.html\")"
      ]
    }
  ]
}