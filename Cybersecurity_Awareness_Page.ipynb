{
  "nbformat": 4,
  "nbformat_minor": 0,
  "metadata": {
    "colab": {
      "provenance": []
    },
    "kernelspec": {
      "name": "python3",
      "display_name": "Python 3"
    },
    "language_info": {
      "name": "python"
    }
  },
  "cells": [
    {
      "cell_type": "code",
      "execution_count": 1,
      "metadata": {
        "id": "nNJGdXui4Rvv"
      },
      "outputs": [],
      "source": [
        "# Save index.html\n",
        "html_content = \"\"\"\n",
        "<!DOCTYPE html>\n",
        "<html lang=\"en\">\n",
        "<head>\n",
        "<meta charset=\"UTF-8\">\n",
        "<meta name=\"viewport\" content=\"width=device-width, initial-scale=1.0\">\n",
        "<title>Cybersecurity Awareness</title>\n",
        "<link rel=\"stylesheet\" href=\"style.css\">\n",
        "</head>\n",
        "<body>\n",
        "<header>\n",
        "<h1>Cybersecurity Awareness</h1>\n",
        "<p>Learn to spot phishing emails and online scams</p>\n",
        "</header>\n",
        "<main>\n",
        "<section id=\"phishing-tips\">\n",
        "<h2>How to Spot a Phishing Email</h2>\n",
        "<ul>\n",
        "<li>Check the sender's email address carefully</li>\n",
        "<li>Look for spelling or grammar mistakes</li>\n",
        "<li>Never click suspicious links</li>\n",
        "<li>Verify requests for personal information</li>\n",
        "</ul>\n",
        "</section>\n",
        "<section id=\"quiz\">\n",
        "<h2>Test Your Knowledge</h2>\n",
        "<p>Is this email safe? <span id=\"question\">\"You won a prize! Click here to claim.\"</span></p>\n",
        "<button onclick=\"checkAnswer(true)\">Safe</button>\n",
        "<button onclick=\"checkAnswer(false)\">Phishing</button>\n",
        "<p id=\"feedback\"></p>\n",
        "</section>\n",
        "<script src=\"script.js\"></script>\n",
        "</main>\n",
        "</body>\n",
        "</html>\n",
        "\"\"\"\n",
        "with open(\"index.html\", \"w\") as f:\n",
        "    f.write(html_content)\n"
      ]
    },
    {
      "cell_type": "code",
      "source": [
        "# Save style.css\n",
        "css_content = \"\"\"\n",
        "body {\n",
        "    font-family: Arial, sans-serif;\n",
        "    margin: 0;\n",
        "    padding: 0;\n",
        "    background-color: #f2f2f2;\n",
        "}\n",
        "header {\n",
        "    background-color: #007bff;\n",
        "    color: white;\n",
        "    padding: 20px;\n",
        "    text-align: center;\n",
        "}\n",
        "main {\n",
        "    padding: 20px;\n",
        "}\n",
        "button {\n",
        "    margin: 5px;\n",
        "    padding: 10px 15px;\n",
        "    cursor: pointer;\n",
        "}\n",
        "\"\"\"\n",
        "with open(\"style.css\", \"w\") as f:\n",
        "    f.write(css_content)\n"
      ],
      "metadata": {
        "id": "IyLPVbo85IjI"
      },
      "execution_count": 2,
      "outputs": []
    },
    {
      "cell_type": "code",
      "source": [
        "# Save script.js\n",
        "js_content = \"\"\"\n",
        "function checkAnswer(isSafe) {\n",
        "    const feedback = document.getElementById(\"feedback\");\n",
        "    if (isSafe === false) {\n",
        "        feedback.textContent = \"Correct! This is a phishing email.\";\n",
        "        feedback.style.color = \"green\";\n",
        "    } else {\n",
        "        feedback.textContent = \"Incorrect. This email is likely a phishing attempt.\";\n",
        "        feedback.style.color = \"red\";\n",
        "    }\n",
        "}\n",
        "\"\"\"\n",
        "with open(\"script.js\", \"w\") as f:\n",
        "    f.write(js_content)\n"
      ],
      "metadata": {
        "id": "Y9pOo5j65N5A"
      },
      "execution_count": 3,
      "outputs": []
    }
  ]
}