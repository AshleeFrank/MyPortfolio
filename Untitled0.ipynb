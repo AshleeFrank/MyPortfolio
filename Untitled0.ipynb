{
  "nbformat": 4,
  "nbformat_minor": 0,
  "metadata": {
    "colab": {
      "provenance": []
    },
    "kernelspec": {
      "name": "python3",
      "display_name": "Python 3"
    },
    "language_info": {
      "name": "python"
    }
  },
  "cells": [
    {
      "cell_type": "markdown",
      "source": [],
      "metadata": {
        "id": "R2G5NsJja9KK"
      }
    },
    {
      "cell_type": "code",
      "source": [
        "import re\n",
        "\n",
        "def check_password(password):\n",
        "    if len(password) < 8:\n",
        "        return \"Weak: Too short\"\n",
        "    if not re.search(r\"[A-Z]\", password):\n",
        "        return \"Weak: Missing uppercase letter\"\n",
        "    if not re.search(r\"[a-z]\", password):\n",
        "        return \"Weak: Missing lowercase letter\"\n",
        "    if not re.search(r\"[0-9]\", password):\n",
        "        return \"Weak: Missing number\"\n",
        "    if not re.search(r\"[!@#$%^&*(),.?\\\":{}|<>]\", password):\n",
        "        return \"Weak: Missing special character\"\n",
        "    return \"Strong password!\"\n",
        "\n",
        "pwd = input(\"Enter password to check: \")\n",
        "print(check_password(pwd))\n"
      ],
      "metadata": {
        "colab": {
          "base_uri": "https://localhost:8080/"
        },
        "id": "iIGaQbIRbK8C",
        "outputId": "e27c4cad-f167-44ae-af6a-081c4f14c26d"
      },
      "execution_count": 1,
      "outputs": [
        {
          "output_type": "stream",
          "name": "stdout",
          "text": [
            "Enter password to check: Blaire11!\n",
            "Strong password!\n"
          ]
        }
      ]
    }
  ]
}