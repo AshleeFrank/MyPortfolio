{
  "nbformat": 4,
  "nbformat_minor": 0,
  "metadata": {
    "colab": {
      "provenance": []
    },
    "kernelspec": {
      "name": "python3",
      "display_name": "Python 3"
    },
    "language_info": {
      "name": "python"
    }
  },
  "cells": [
    {
      "cell_type": "code",
      "execution_count": 1,
      "metadata": {
        "colab": {
          "base_uri": "https://localhost:8080/"
        },
        "id": "dLMlvBueg0b2",
        "outputId": "6e8b3e66-16aa-49f6-ed9b-2a5785f9294c"
      },
      "outputs": [
        {
          "output_type": "stream",
          "name": "stdout",
          "text": [
            "Enter the IP address to scan: 10.0.0.173\n",
            "Scanning ports on 10.0.0.173...\n",
            "\n",
            "Port 21: Closed\n",
            "Port 22: Closed\n",
            "Port 23: Closed\n",
            "Port 25: Closed\n",
            "Port 53: Closed\n",
            "Port 80: Closed\n",
            "Port 110: Closed\n",
            "Port 443: Closed\n",
            "\n",
            "Scan complete!\n"
          ]
        }
      ],
      "source": [
        "import socket\n",
        "\n",
        "# Target IP address\n",
        "target = input(\"Enter the IP address to scan: \")\n",
        "\n",
        "# Common ports to scan\n",
        "ports = [21, 22, 23, 25, 53, 80, 110, 443]\n",
        "\n",
        "print(f\"Scanning ports on {target}...\\n\")\n",
        "\n",
        "for port in ports:\n",
        "    sock = socket.socket(socket.AF_INET, socket.SOCK_STREAM)\n",
        "    sock.settimeout(1)\n",
        "    result = sock.connect_ex((target, port))\n",
        "    if result == 0:\n",
        "        print(f\"Port {port}: Open\")\n",
        "    else:\n",
        "        print(f\"Port {port}: Closed\")\n",
        "    sock.close()\n",
        "\n",
        "print(\"\\nScan complete!\")\n"
      ]
    },
    {
      "cell_type": "markdown",
      "source": [
        "# Network Port Scanner\n",
        "**Description:** Scans open ports on a given IP address to identify potential vulnerabilities.\n",
        "\n",
        "**Usage (Safe):** Use your own IP or 127.0.0.1. Do not scan external IPs without permission.\n",
        "\n",
        "**Why Companies Scan IPs:**  \n",
        "- Identify open ports  \n",
        "- Detect vulnerabilities  \n",
        "- Compliance & auditing  \n",
        "- Network troubleshooting  \n",
        "- Ethical hacking / penetration testing\n"
      ],
      "metadata": {
        "id": "oA_HVVuci84r"
      }
    }
  ]
}